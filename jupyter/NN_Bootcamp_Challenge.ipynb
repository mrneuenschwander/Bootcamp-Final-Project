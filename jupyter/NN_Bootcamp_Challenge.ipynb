{
  "cells": [
    {
      "cell_type": "code",
      "execution_count": null,
      "metadata": {
        "colab": {
          "base_uri": "https://localhost:8080/"
        },
        "id": "lJR47f4wCFSt",
        "outputId": "7d7e08f9-6a86-4f3e-d984-60e5aaec9271"
      },
      "outputs": [],
      "source": [
        "mvp = pd.read_csv(\"../resources/mvp_votings.csv\")\n",
        "nba_df = pd.read_csv(\"../resources/nba_info.csv\")\n",
        "mvp[\"award_share\"]"
      ]
    },
    {
      "cell_type": "code",
      "execution_count": null,
      "metadata": {
        "colab": {
          "base_uri": "https://localhost:8080/",
          "height": 386
        },
        "id": "ozOfTyYUyBKY",
        "outputId": "12ce150e-a363-4dae-8763-488f2b98fcfd"
      },
      "outputs": [],
      "source": [
        "nba_cleaning = nba_df.drop(columns=['HOME_TEAM_ID', 'VISITOR_TEAM_ID', 'TEAM_ID_home', 'HOME_TEAM_WINS', 'TEAM_ID', 'CONFERENCE', 'TEAM'])\n",
        "nba_cleaning.head()"
      ]
    },
    {
      "cell_type": "code",
      "execution_count": null,
      "metadata": {
        "id": "31F1_Mw30bLg"
      },
      "outputs": [],
      "source": [
        "def get_clusters(k, data) :\n",
        "# Create a copy of the DataFrame\n",
        "  data = data.copy()\n",
        "# Initialize the K-Means model\n",
        "  model = KMeans(n_clusters=k, random_state=0)\n",
        "# Fit the model\n",
        "  model.fit(data)\n",
        "# Predict clusters\n",
        "  predictions = model.predict(data)\n",
        "# Create return DataFrame with predicted clusters\n",
        "  data[\"class\"] = model.labels_\n",
        "  return data"
      ]
    },
    {
      "cell_type": "code",
      "execution_count": null,
      "metadata": {
        "colab": {
          "base_uri": "https://localhost:8080/"
        },
        "id": "hfAFtBS_5291",
        "outputId": "3d0afa63-385e-4d4d-b6f0-e74eea6c5b68"
      },
      "outputs": [],
      "source": [
        "#!pip install hvplot\n"
      ]
    },
    {
      "cell_type": "code",
      "execution_count": null,
      "metadata": {
        "id": "lOpSj0WFR1hP"
      },
      "outputs": [],
      "source": [
        "two_clusters.hvplot.scatter(x=\"ast_per_g\", y=\"award_share\", by=\"class\", marker=\"o\", \n",
        "                            color = [\"red\", \"blue\", \"black\", \"green\", \"brown\", \"purple\"], \n",
        "                            hover_cols= \"player\")"
      ]
    }
  ],
  "metadata": {
    "colab": {
      "provenance": []
    },
    "kernelspec": {
      "display_name": "Python 3",
      "name": "python3"
    },
    "language_info": {
      "codemirror_mode": {
        "name": "ipython",
        "version": 3
      },
      "file_extension": ".py",
      "mimetype": "text/x-python",
      "name": "python",
      "nbconvert_exporter": "python",
      "pygments_lexer": "ipython3",
      "version": "3.7.13"
    }
  },
  "nbformat": 4,
  "nbformat_minor": 0
}
